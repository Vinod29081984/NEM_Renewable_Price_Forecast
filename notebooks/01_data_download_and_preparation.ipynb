{
 "cells": [
  {
   "cell_type": "markdown",
   "id": "2469b60b-96ad-48b0-af77-480005ced35c",
   "metadata": {},
   "source": [
    "# Data_download and Preparation"
   ]
  },
  {
   "cell_type": "markdown",
   "id": "d8328d94-5e98-4bdb-b5a2-85bb926bd834",
   "metadata": {},
   "source": [
    "This notebook is dedicated to the end-to-end preparation of analysis-ready datasets required to investigate the impact of renewable energy generation on electricity prices in Queensland (QLD) within the National Electricity Market (NEM). It performs the following key tasks:"
   ]
  },
  {
   "cell_type": "markdown",
   "id": "8993db2f-3bbf-4f58-8809-41b3edb34f7b",
   "metadata": {},
   "source": [
    "##### 1. Folder Structure Setup"
   ]
  },
  {
   "cell_type": "code",
   "execution_count": 4,
   "id": "6987e506-51c6-41a7-a74b-81fda3ac55b5",
   "metadata": {},
   "outputs": [
    {
     "name": "stdout",
     "output_type": "stream",
     "text": [
      "Folders created:\n",
      "- Raw: data\\raw\n",
      "- Cleaned: data\\cleaned\n",
      "- Registration: data\\registration\n"
     ]
    }
   ],
   "source": [
    "# Setup - Create directories\n",
    "import os\n",
    "\n",
    "base_dir = \"data\"\n",
    "raw_dir = os.path.join(base_dir, \"raw\")\n",
    "cleaned_dir = os.path.join(base_dir, \"cleaned\")\n",
    "reg_dir = os.path.join(base_dir, \"registration\")\n",
    "\n",
    "os.makedirs(raw_dir, exist_ok=True)\n",
    "os.makedirs(cleaned_dir, exist_ok=True)\n",
    "os.makedirs(reg_dir, exist_ok=True)\n",
    "\n",
    "print(\"Folders created:\")\n",
    "print(f\"- Raw: {raw_dir}\")\n",
    "print(f\"- Cleaned: {cleaned_dir}\")\n",
    "print(f\"- Registration: {reg_dir}\")"
   ]
  },
  {
   "cell_type": "markdown",
   "id": "de0f106b-59b1-40b7-b1bf-4c7769fc1586",
   "metadata": {},
   "source": [
    "##### 2. Price Data Download (DISPATCHPRICE)"
   ]
  },
  {
   "cell_type": "code",
   "execution_count": 6,
   "id": "ef44e296-0a96-49bb-b84b-07a843b01b0f",
   "metadata": {},
   "outputs": [
    {
     "name": "stdout",
     "output_type": "stream",
     "text": [
      "✓ Already exists: data\\raw\\mms_dispatch_price\\DISPATCHPRICE_202301.csv\n",
      "✓ Already exists: data\\raw\\mms_dispatch_price\\DISPATCHPRICE_202302.csv\n",
      "✓ Already exists: data\\raw\\mms_dispatch_price\\DISPATCHPRICE_202303.csv\n",
      "✓ Already exists: data\\raw\\mms_dispatch_price\\DISPATCHPRICE_202304.csv\n",
      "✓ Already exists: data\\raw\\mms_dispatch_price\\DISPATCHPRICE_202305.csv\n",
      "✓ Already exists: data\\raw\\mms_dispatch_price\\DISPATCHPRICE_202306.csv\n",
      "✓ Already exists: data\\raw\\mms_dispatch_price\\DISPATCHPRICE_202307.csv\n",
      "✓ Already exists: data\\raw\\mms_dispatch_price\\DISPATCHPRICE_202308.csv\n",
      "✓ Already exists: data\\raw\\mms_dispatch_price\\DISPATCHPRICE_202309.csv\n",
      "✓ Already exists: data\\raw\\mms_dispatch_price\\DISPATCHPRICE_202310.csv\n",
      "✓ Already exists: data\\raw\\mms_dispatch_price\\DISPATCHPRICE_202311.csv\n",
      "✓ Already exists: data\\raw\\mms_dispatch_price\\DISPATCHPRICE_202312.csv\n",
      "✓ Already exists: data\\raw\\mms_dispatch_price\\DISPATCHPRICE_202401.csv\n",
      "✓ Already exists: data\\raw\\mms_dispatch_price\\DISPATCHPRICE_202402.csv\n",
      "✓ Already exists: data\\raw\\mms_dispatch_price\\DISPATCHPRICE_202403.csv\n",
      "✓ Already exists: data\\raw\\mms_dispatch_price\\DISPATCHPRICE_202404.csv\n",
      "✓ Already exists: data\\raw\\mms_dispatch_price\\DISPATCHPRICE_202405.csv\n",
      "✓ Already exists: data\\raw\\mms_dispatch_price\\DISPATCHPRICE_202406.csv\n",
      "✓ Already exists: data\\raw\\mms_dispatch_price\\DISPATCHPRICE_202407.csv\n",
      "⬇ Downloading: PUBLIC_DVD_DISPATCHPRICE_202408010000.zip\n",
      "Failed: PUBLIC_DVD_DISPATCHPRICE_202408010000 (404 Client Error: Not Found for url: http://www.nemweb.com.au/Data_Archive/Wholesale_Electricity/MMSDM/2024/MMSDM_2024_08/MMSDM_Historical_Data_SQLLoader/DATA/PUBLIC_DVD_DISPATCHPRICE_202408010000.zip)\n",
      "⬇ Downloading: PUBLIC_DVD_DISPATCHPRICE_202409010000.zip\n",
      "Failed: PUBLIC_DVD_DISPATCHPRICE_202409010000 (404 Client Error: Not Found for url: http://www.nemweb.com.au/Data_Archive/Wholesale_Electricity/MMSDM/2024/MMSDM_2024_09/MMSDM_Historical_Data_SQLLoader/DATA/PUBLIC_DVD_DISPATCHPRICE_202409010000.zip)\n",
      "⬇ Downloading: PUBLIC_DVD_DISPATCHPRICE_202410010000.zip\n",
      "Failed: PUBLIC_DVD_DISPATCHPRICE_202410010000 (404 Client Error: Not Found for url: http://www.nemweb.com.au/Data_Archive/Wholesale_Electricity/MMSDM/2024/MMSDM_2024_10/MMSDM_Historical_Data_SQLLoader/DATA/PUBLIC_DVD_DISPATCHPRICE_202410010000.zip)\n",
      "⬇ Downloading: PUBLIC_DVD_DISPATCHPRICE_202411010000.zip\n",
      "Failed: PUBLIC_DVD_DISPATCHPRICE_202411010000 (404 Client Error: Not Found for url: http://www.nemweb.com.au/Data_Archive/Wholesale_Electricity/MMSDM/2024/MMSDM_2024_11/MMSDM_Historical_Data_SQLLoader/DATA/PUBLIC_DVD_DISPATCHPRICE_202411010000.zip)\n",
      "⬇ Downloading: PUBLIC_DVD_DISPATCHPRICE_202412010000.zip\n",
      "Failed: PUBLIC_DVD_DISPATCHPRICE_202412010000 (404 Client Error: Not Found for url: http://www.nemweb.com.au/Data_Archive/Wholesale_Electricity/MMSDM/2024/MMSDM_2024_12/MMSDM_Historical_Data_SQLLoader/DATA/PUBLIC_DVD_DISPATCHPRICE_202412010000.zip)\n"
     ]
    }
   ],
   "source": [
    "import time\n",
    "import requests\n",
    "import zipfile\n",
    "\n",
    "# Folder to store zipped & extracted files\n",
    "mms_dir = os.path.join(raw_dir, \"mms_dispatch_price\")\n",
    "os.makedirs(mms_dir, exist_ok=True)\n",
    "\n",
    "# Setup headers to avoid 403 errors\n",
    "headers = {\n",
    "    'User-Agent': 'Mozilla/5.0 (Windows NT 10.0; Win64; x64) AppleWebKit/537.36 (KHTML, like Gecko) Chrome/91.0.4472.124 Safari/537.36'\n",
    "}\n",
    "\n",
    "# Function to download and extract\n",
    "def download_dispatchprice(years=(2023, 2024), delay=1):\n",
    "    base_url = \"http://www.nemweb.com.au/Data_Archive/Wholesale_Electricity/MMSDM/{}/MMSDM_{}_{:02d}/MMSDM_Historical_Data_SQLLoader/DATA/{}.zip\"\n",
    "\n",
    "    for year in range(years[0], years[1] + 1):\n",
    "        for month in range(1, 13):\n",
    "            if year == 2024 and month > 12:\n",
    "                continue\n",
    "            month_str = f\"{year}{month:02d}\"\n",
    "            filename = f\"PUBLIC_DVD_DISPATCHPRICE_{month_str}010000\"\n",
    "            url = base_url.format(year, year, month, filename)\n",
    "\n",
    "            zip_path = os.path.join(mms_dir, f\"{filename}.zip\")\n",
    "            csv_path = os.path.join(mms_dir, f\"DISPATCHPRICE_{month_str}.csv\")\n",
    "\n",
    "            # Skip if already downloaded\n",
    "            if os.path.exists(csv_path):\n",
    "                print(f\"✓ Already exists: {csv_path}\")\n",
    "                continue\n",
    "\n",
    "            try:\n",
    "                print(f\"⬇ Downloading: {filename}.zip\")\n",
    "                response = requests.get(url, headers=headers)\n",
    "                response.raise_for_status()\n",
    "\n",
    "                with open(zip_path, 'wb') as f:\n",
    "                    f.write(response.content)\n",
    "\n",
    "                with zipfile.ZipFile(zip_path, 'r') as zip_ref:\n",
    "                    zip_ref.extractall(mms_dir)\n",
    "\n",
    "                extracted_csv = os.path.join(mms_dir, f\"{filename}.CSV\")\n",
    "                os.rename(extracted_csv, csv_path)\n",
    "                print(f\"Extracted: {csv_path}\")\n",
    "\n",
    "                time.sleep(delay)\n",
    "\n",
    "            except Exception as e:\n",
    "                print(f\"Failed: {filename} ({e})\")\n",
    "\n",
    "# Run the download function\n",
    "download_dispatchprice()"
   ]
  },
  {
   "cell_type": "code",
   "execution_count": 7,
   "id": "c264c4cc-cbfc-4e54-8880-a6dfb97eabfc",
   "metadata": {},
   "outputs": [
    {
     "name": "stdout",
     "output_type": "stream",
     "text": [
      "Found 19 monthly price files.\n",
      "Saved cleaned QLD price data to: data\\cleaned\\price_demand_qld_2023_2024.csv\n",
      "Shape: (166494, 58)\n"
     ]
    }
   ],
   "source": [
    "import pandas as pd\n",
    "from glob import glob\n",
    "\n",
    "# Path to all monthly price CSVs\n",
    "price_files = sorted(glob(os.path.join(mms_dir, \"DISPATCHPRICE_*.csv\")))\n",
    "\n",
    "print(f\"Found {len(price_files)} monthly price files.\")\n",
    "\n",
    "# Load and concatenate\n",
    "all_data = []\n",
    "\n",
    "for file in price_files:\n",
    "    try:\n",
    "        df = pd.read_csv(file, skiprows=1)  # first row is metadata\n",
    "        all_data.append(df)\n",
    "    except Exception as e:\n",
    "        print(f\"Failed to read {file}: {e}\")\n",
    "\n",
    "df_price = pd.concat(all_data, ignore_index=True)\n",
    "\n",
    "# Filter QLD1 only\n",
    "df_price_qld = df_price[df_price[\"REGIONID\"] == \"QLD1\"].copy()\n",
    "\n",
    "# Save to cleaned folder\n",
    "clean_price_path = os.path.join(cleaned_dir, \"price_demand_qld_2023_2024.csv\")\n",
    "df_price_qld.to_csv(clean_price_path, index=False)\n",
    "\n",
    "print(f\"Saved cleaned QLD price data to: {clean_price_path}\")\n",
    "print(f\"Shape: {df_price_qld.shape}\")"
   ]
  },
  {
   "cell_type": "markdown",
   "id": "ea883257-3f3c-4a53-82b4-8153d9cd493f",
   "metadata": {},
   "source": [
    "##### 3. Renewable Generation Data (DISPATCH_UNIT_SCADA)"
   ]
  },
  {
   "cell_type": "code",
   "execution_count": 9,
   "id": "c45f92d5-5f0c-468f-a029-1d2d50561257",
   "metadata": {},
   "outputs": [
    {
     "name": "stdout",
     "output_type": "stream",
     "text": [
      "✓ Already exists: data\\raw\\mms_dispatch_scada\\DISPATCH_UNIT_SCADA_202301.csv\n",
      "✓ Already exists: data\\raw\\mms_dispatch_scada\\DISPATCH_UNIT_SCADA_202302.csv\n",
      "✓ Already exists: data\\raw\\mms_dispatch_scada\\DISPATCH_UNIT_SCADA_202303.csv\n",
      "✓ Already exists: data\\raw\\mms_dispatch_scada\\DISPATCH_UNIT_SCADA_202304.csv\n",
      "✓ Already exists: data\\raw\\mms_dispatch_scada\\DISPATCH_UNIT_SCADA_202305.csv\n",
      "✓ Already exists: data\\raw\\mms_dispatch_scada\\DISPATCH_UNIT_SCADA_202306.csv\n",
      "✓ Already exists: data\\raw\\mms_dispatch_scada\\DISPATCH_UNIT_SCADA_202307.csv\n",
      "✓ Already exists: data\\raw\\mms_dispatch_scada\\DISPATCH_UNIT_SCADA_202308.csv\n",
      "✓ Already exists: data\\raw\\mms_dispatch_scada\\DISPATCH_UNIT_SCADA_202309.csv\n",
      "✓ Already exists: data\\raw\\mms_dispatch_scada\\DISPATCH_UNIT_SCADA_202310.csv\n",
      "✓ Already exists: data\\raw\\mms_dispatch_scada\\DISPATCH_UNIT_SCADA_202311.csv\n",
      "✓ Already exists: data\\raw\\mms_dispatch_scada\\DISPATCH_UNIT_SCADA_202312.csv\n",
      "✓ Already exists: data\\raw\\mms_dispatch_scada\\DISPATCH_UNIT_SCADA_202401.csv\n",
      "✓ Already exists: data\\raw\\mms_dispatch_scada\\DISPATCH_UNIT_SCADA_202402.csv\n",
      "✓ Already exists: data\\raw\\mms_dispatch_scada\\DISPATCH_UNIT_SCADA_202403.csv\n",
      "✓ Already exists: data\\raw\\mms_dispatch_scada\\DISPATCH_UNIT_SCADA_202404.csv\n",
      "✓ Already exists: data\\raw\\mms_dispatch_scada\\DISPATCH_UNIT_SCADA_202405.csv\n",
      "✓ Already exists: data\\raw\\mms_dispatch_scada\\DISPATCH_UNIT_SCADA_202406.csv\n",
      "✓ Already exists: data\\raw\\mms_dispatch_scada\\DISPATCH_UNIT_SCADA_202407.csv\n",
      "⬇ Downloading: PUBLIC_DVD_DISPATCH_UNIT_SCADA_202408010000.zip\n",
      "Failed: PUBLIC_DVD_DISPATCH_UNIT_SCADA_202408010000 (404 Client Error: Not Found for url: http://www.nemweb.com.au/Data_Archive/Wholesale_Electricity/MMSDM/2024/MMSDM_2024_08/MMSDM_Historical_Data_SQLLoader/DATA/PUBLIC_DVD_DISPATCH_UNIT_SCADA_202408010000.zip)\n",
      "⬇ Downloading: PUBLIC_DVD_DISPATCH_UNIT_SCADA_202409010000.zip\n",
      "Failed: PUBLIC_DVD_DISPATCH_UNIT_SCADA_202409010000 (404 Client Error: Not Found for url: http://www.nemweb.com.au/Data_Archive/Wholesale_Electricity/MMSDM/2024/MMSDM_2024_09/MMSDM_Historical_Data_SQLLoader/DATA/PUBLIC_DVD_DISPATCH_UNIT_SCADA_202409010000.zip)\n",
      "⬇ Downloading: PUBLIC_DVD_DISPATCH_UNIT_SCADA_202410010000.zip\n",
      "Failed: PUBLIC_DVD_DISPATCH_UNIT_SCADA_202410010000 (404 Client Error: Not Found for url: http://www.nemweb.com.au/Data_Archive/Wholesale_Electricity/MMSDM/2024/MMSDM_2024_10/MMSDM_Historical_Data_SQLLoader/DATA/PUBLIC_DVD_DISPATCH_UNIT_SCADA_202410010000.zip)\n",
      "⬇ Downloading: PUBLIC_DVD_DISPATCH_UNIT_SCADA_202411010000.zip\n",
      "Failed: PUBLIC_DVD_DISPATCH_UNIT_SCADA_202411010000 (404 Client Error: Not Found for url: http://www.nemweb.com.au/Data_Archive/Wholesale_Electricity/MMSDM/2024/MMSDM_2024_11/MMSDM_Historical_Data_SQLLoader/DATA/PUBLIC_DVD_DISPATCH_UNIT_SCADA_202411010000.zip)\n",
      "⬇ Downloading: PUBLIC_DVD_DISPATCH_UNIT_SCADA_202412010000.zip\n",
      "Failed: PUBLIC_DVD_DISPATCH_UNIT_SCADA_202412010000 (404 Client Error: Not Found for url: http://www.nemweb.com.au/Data_Archive/Wholesale_Electricity/MMSDM/2024/MMSDM_2024_12/MMSDM_Historical_Data_SQLLoader/DATA/PUBLIC_DVD_DISPATCH_UNIT_SCADA_202412010000.zip)\n"
     ]
    }
   ],
   "source": [
    "# Create SCADA folder\n",
    "scada_dir = os.path.join(raw_dir, \"mms_dispatch_scada\")\n",
    "os.makedirs(scada_dir, exist_ok=True)\n",
    "\n",
    "def download_dispatch_scada(years=(2023, 2024), delay=1):\n",
    "    base_url = \"http://www.nemweb.com.au/Data_Archive/Wholesale_Electricity/MMSDM/{}/MMSDM_{}_{:02d}/MMSDM_Historical_Data_SQLLoader/DATA/{}.zip\"\n",
    "\n",
    "    for year in range(years[0], years[1] + 1):\n",
    "        for month in range(1, 13):\n",
    "            if year == 2024 and month > 12:\n",
    "                continue\n",
    "            month_str = f\"{year}{month:02d}\"\n",
    "            filename = f\"PUBLIC_DVD_DISPATCH_UNIT_SCADA_{month_str}010000\"\n",
    "            url = base_url.format(year, year, month, filename)\n",
    "\n",
    "            zip_path = os.path.join(scada_dir, f\"{filename}.zip\")\n",
    "            csv_path = os.path.join(scada_dir, f\"DISPATCH_UNIT_SCADA_{month_str}.csv\")\n",
    "\n",
    "            if os.path.exists(csv_path):\n",
    "                print(f\"✓ Already exists: {csv_path}\")\n",
    "                continue\n",
    "\n",
    "            try:\n",
    "                print(f\"⬇ Downloading: {filename}.zip\")\n",
    "                response = requests.get(url, headers=headers)\n",
    "                response.raise_for_status()\n",
    "\n",
    "                with open(zip_path, 'wb') as f:\n",
    "                    f.write(response.content)\n",
    "\n",
    "                with zipfile.ZipFile(zip_path, 'r') as zip_ref:\n",
    "                    zip_ref.extractall(scada_dir)\n",
    "\n",
    "                extracted_csv = os.path.join(scada_dir, f\"{filename}.CSV\")\n",
    "                os.rename(extracted_csv, csv_path)\n",
    "                print(f\"Extracted: {csv_path}\")\n",
    "\n",
    "                time.sleep(delay)\n",
    "\n",
    "            except Exception as e:\n",
    "                print(f\"Failed: {filename} ({e})\")\n",
    "\n",
    "# Run the function\n",
    "download_dispatch_scada()"
   ]
  },
  {
   "cell_type": "markdown",
   "id": "8ad00400-6474-4a08-be60-5b21d23a4921",
   "metadata": {},
   "source": [
    "##### Download the Registration Excel File"
   ]
  },
  {
   "cell_type": "code",
   "execution_count": 11,
   "id": "bb16a742-0845-4168-8dad-192dfbd335aa",
   "metadata": {},
   "outputs": [
    {
     "name": "stdout",
     "output_type": "stream",
     "text": [
      "⬇ Downloading generator registration list...\n",
      "Saved to: data\\registration\\NEM_Registration_and_Exemption_List.xlsx\n"
     ]
    }
   ],
   "source": [
    "# Folder to save the registration Excel file\n",
    "reg_excel_path = os.path.join(reg_dir, \"NEM_Registration_and_Exemption_List.xlsx\")\n",
    "\n",
    "registration_url = \"https://www.aemo.com.au/-/media/files/electricity/nem/participant_information/nem-registration-and-exemption-list.xlsx\"\n",
    "\n",
    "try:\n",
    "    print(f\"⬇ Downloading generator registration list...\")\n",
    "    response = requests.get(registration_url, headers=headers)\n",
    "    response.raise_for_status()\n",
    "    with open(reg_excel_path, 'wb') as f:\n",
    "        f.write(response.content)\n",
    "    print(f\"Saved to: {reg_excel_path}\")\n",
    "except Exception as e:\n",
    "    print(f\" Failed to download registration list: {e}\")\n"
   ]
  },
  {
   "cell_type": "markdown",
   "id": "d5b83a8a-0d7f-4477-9546-82c64e10f2bf",
   "metadata": {},
   "source": [
    "##### Load & Merge SCADA Files"
   ]
  },
  {
   "cell_type": "code",
   "execution_count": 13,
   "id": "cf98c88d-67ea-43fe-9f1d-455440d33a92",
   "metadata": {},
   "outputs": [
    {
     "name": "stdout",
     "output_type": "stream",
     "text": [
      "Found 19 SCADA files\n",
      " SCADA data loaded: (76427403, 3)\n"
     ]
    }
   ],
   "source": [
    "# Get all SCADA CSV files\n",
    "scada_files = sorted(glob(os.path.join(scada_dir, \"DISPATCH_UNIT_SCADA_*.csv\")))\n",
    "\n",
    "print(f\"Found {len(scada_files)} SCADA files\")\n",
    "\n",
    "# Load all into a single DataFrame\n",
    "scada_data = []\n",
    "\n",
    "for file in scada_files:\n",
    "    try:\n",
    "        df = pd.read_csv(file, skiprows=1, usecols=[\"SETTLEMENTDATE\", \"DUID\", \"SCADAVALUE\"])\n",
    "        scada_data.append(df)\n",
    "    except Exception as e:\n",
    "        print(f\"Failed to read {file}: {e}\")\n",
    "\n",
    "df_scada = pd.concat(scada_data, ignore_index=True)\n",
    "print(\" SCADA data loaded:\", df_scada.shape)"
   ]
  },
  {
   "cell_type": "markdown",
   "id": "97fbcfe0-bccf-4029-88ec-41b7651a6649",
   "metadata": {},
   "source": [
    "##### Load & Filter the Registration Excel File"
   ]
  },
  {
   "cell_type": "code",
   "execution_count": 15,
   "id": "17bf39ef-63cf-400a-aff9-4e3917cb0f25",
   "metadata": {},
   "outputs": [
    {
     "name": "stdout",
     "output_type": "stream",
     "text": [
      "Available sheet names:\n",
      "['Title Page', 'Registered Participants', 'Applications Received ', 'Ceasing Registration', 'Suspended Participants', 'PU and Scheduled Loads', 'Exemption - Intermediary', 'Exemption - small gen or IRS', 'Exemption - Central Dispatch', 'Ancillary Services', 'Wholesale Demand Response Units', 'Metering Coordinators', 'Dedicated Connection Asset']\n"
     ]
    }
   ],
   "source": [
    "xls = pd.ExcelFile(reg_excel_path)\n",
    "print(\"Available sheet names:\")\n",
    "print(xls.sheet_names)"
   ]
  },
  {
   "cell_type": "code",
   "execution_count": 16,
   "id": "0b33ca3b-b55e-4f7d-a021-920cdaf774c0",
   "metadata": {},
   "outputs": [
    {
     "name": "stdout",
     "output_type": "stream",
     "text": [
      "Renewable QLD generators: (58, 20)\n"
     ]
    }
   ],
   "source": [
    "# Load \"Production Units (PU) and Scheduled Loads\" tab\n",
    "df_reg = pd.read_excel(reg_excel_path, sheet_name=\"PU and Scheduled Loads\", skiprows=0)\n",
    "\n",
    "# Keep only renewable units in QLD\n",
    "renewables = [\"Solar\", \"Wind\", \"Hydro\"]\n",
    "df_renewables_qld = df_reg[\n",
    "    (df_reg[\"Region\"] == \"QLD1\") &\n",
    "    (df_reg[\"Fuel Source - Primary\"].isin(renewables))\n",
    "]\n",
    "\n",
    "# Ensure only valid DUIDs (no NaN)\n",
    "df_renewables_qld = df_renewables_qld[df_renewables_qld[\"DUID\"].notna()]\n",
    "\n",
    "print(\"Renewable QLD generators:\", df_renewables_qld.shape)"
   ]
  },
  {
   "cell_type": "markdown",
   "id": "bc02aa97-7478-4f1d-a778-b95f76c869a3",
   "metadata": {},
   "source": [
    "##### Merge SCADA with Registration & Filter"
   ]
  },
  {
   "cell_type": "code",
   "execution_count": 18,
   "id": "560c5dec-8381-42d9-ae71-0c82354de52b",
   "metadata": {},
   "outputs": [
    {
     "name": "stdout",
     "output_type": "stream",
     "text": [
      " Merged renewable generation data: (8107423, 5)\n"
     ]
    }
   ],
   "source": [
    "# Merge SCADA with registration by DUID\n",
    "df_merged = pd.merge(df_scada, df_renewables_qld[[\"DUID\", \"Fuel Source - Primary\", \"Technology Type - Primary\"]], on=\"DUID\", how=\"inner\")\n",
    "\n",
    "print(\" Merged renewable generation data:\", df_merged.shape)"
   ]
  },
  {
   "cell_type": "markdown",
   "id": "3e6ef938-9482-43af-9404-ade2b6803ee7",
   "metadata": {},
   "source": [
    "##### Save Final Dataset"
   ]
  },
  {
   "cell_type": "code",
   "execution_count": 20,
   "id": "62a33fb6-b9be-455d-9b46-f595b7fb1b7a",
   "metadata": {},
   "outputs": [
    {
     "name": "stdout",
     "output_type": "stream",
     "text": [
      " Saved renewable generation data to: data\\cleaned\\renewable_generation_qld_2023_2024.csv\n"
     ]
    }
   ],
   "source": [
    "# Convert settlement date to datetime\n",
    "df_merged[\"SETTLEMENTDATE\"] = pd.to_datetime(df_merged[\"SETTLEMENTDATE\"])\n",
    "\n",
    "# Save to cleaned folder\n",
    "renewable_out_path = os.path.join(cleaned_dir, \"renewable_generation_qld_2023_2024.csv\")\n",
    "df_merged.to_csv(renewable_out_path, index=False)\n",
    "\n",
    "print(f\" Saved renewable generation data to: {renewable_out_path}\")"
   ]
  },
  {
   "cell_type": "markdown",
   "id": "d998d5f3-eb92-4fa3-badb-829e564129db",
   "metadata": {},
   "source": [
    "##### Prepare and Convert for Analysis"
   ]
  },
  {
   "cell_type": "code",
   "execution_count": 22,
   "id": "99daba76-9227-46a4-8662-5694601fe83a",
   "metadata": {},
   "outputs": [
    {
     "name": "stdout",
     "output_type": "stream",
     "text": [
      "⬇ Downloading latest registration file...\n",
      " Excel saved: data\\aemo_data\\NEM_Registration_and_Exemption_List.xlsx\n",
      " CSV prepared: data\\analysis\\NEM_Registration.csv\n"
     ]
    }
   ],
   "source": [
    "def prepare_registration_data():\n",
    "    import pandas as pd\n",
    "    import os\n",
    "    import requests\n",
    "\n",
    "    headers = {\n",
    "        'User-Agent': 'Mozilla/5.0 (Windows NT 10.0; Win64; x64)'\n",
    "    }\n",
    "\n",
    "    # Paths\n",
    "    reg_url = \"https://www.aemo.com.au/-/media/files/electricity/nem/participant_information/nem-registration-and-exemption-list.xlsx\"\n",
    "    xlsx_path = os.path.join(\"data\", \"aemo_data\", \"NEM_Registration_and_Exemption_List.xlsx\")\n",
    "    csv_path = os.path.join(\"data\", \"analysis\", \"NEM_Registration.csv\")\n",
    "\n",
    "    os.makedirs(\"data/aemo_data\", exist_ok=True)\n",
    "    os.makedirs(\"data/analysis\", exist_ok=True)\n",
    "\n",
    "    # Download Excel\n",
    "    try:\n",
    "        print(\"⬇ Downloading latest registration file...\")\n",
    "        r = requests.get(reg_url, headers=headers)\n",
    "        r.raise_for_status()\n",
    "        with open(xlsx_path, \"wb\") as f:\n",
    "            f.write(r.content)\n",
    "        print(f\" Excel saved: {xlsx_path}\")\n",
    "    except Exception as e:\n",
    "        print(f\" Download failed: {e}\")\n",
    "        return\n",
    "\n",
    "    # Extract PU sheet and save as CSV\n",
    "    try:\n",
    "        df = pd.read_excel(xlsx_path, sheet_name=\"PU and Scheduled Loads\")\n",
    "        df.to_csv(csv_path, index=False)\n",
    "        print(f\" CSV prepared: {csv_path}\")\n",
    "    except Exception as e:\n",
    "        print(f\" Excel to CSV failed: {e}\")\n",
    "\n",
    "# Run it once\n",
    "prepare_registration_data()"
   ]
  },
  {
   "cell_type": "markdown",
   "id": "8b16e92b-2d93-4a6e-aea4-09ed45f4b7d3",
   "metadata": {},
   "source": [
    "##### Load and Preview the CSV"
   ]
  },
  {
   "cell_type": "code",
   "execution_count": 24,
   "id": "9de496fa-c6d6-4098-9d48-f31b3ad162ff",
   "metadata": {},
   "outputs": [
    {
     "data": {
      "text/html": [
       "<div>\n",
       "<style scoped>\n",
       "    .dataframe tbody tr th:only-of-type {\n",
       "        vertical-align: middle;\n",
       "    }\n",
       "\n",
       "    .dataframe tbody tr th {\n",
       "        vertical-align: top;\n",
       "    }\n",
       "\n",
       "    .dataframe thead th {\n",
       "        text-align: right;\n",
       "    }\n",
       "</style>\n",
       "<table border=\"1\" class=\"dataframe\">\n",
       "  <thead>\n",
       "    <tr style=\"text-align: right;\">\n",
       "      <th></th>\n",
       "      <th>Participant</th>\n",
       "      <th>Station Name</th>\n",
       "      <th>Region</th>\n",
       "      <th>Dispatch Type</th>\n",
       "      <th>Category</th>\n",
       "      <th>Classification</th>\n",
       "      <th>Fuel Source - Primary</th>\n",
       "      <th>Fuel Source - Descriptor</th>\n",
       "      <th>Technology Type - Primary</th>\n",
       "      <th>Technology Type - Descriptor</th>\n",
       "      <th>Units</th>\n",
       "      <th>Aggregation</th>\n",
       "      <th>DUID</th>\n",
       "      <th>Reg Cap generation (MW)</th>\n",
       "      <th>Max Cap generation (MW)</th>\n",
       "      <th>Max ROC/Min generation</th>\n",
       "      <th>Reg Cap consumption (MW)</th>\n",
       "      <th>Max Cap consumption (MW)</th>\n",
       "      <th>Max ROC/Min consumption</th>\n",
       "      <th>Comments</th>\n",
       "    </tr>\n",
       "  </thead>\n",
       "  <tbody>\n",
       "    <tr>\n",
       "      <th>0</th>\n",
       "      <td>South Australian Water Corporation</td>\n",
       "      <td>Adelaide Desalination Plant</td>\n",
       "      <td>SA1</td>\n",
       "      <td>Generating Unit</td>\n",
       "      <td>Market</td>\n",
       "      <td>Scheduled</td>\n",
       "      <td>Battery storage</td>\n",
       "      <td>Grid</td>\n",
       "      <td>Storage</td>\n",
       "      <td>Battery and Inverter</td>\n",
       "      <td>1-3</td>\n",
       "      <td>Y</td>\n",
       "      <td>ADPBA1G</td>\n",
       "      <td>7.76</td>\n",
       "      <td>6.15</td>\n",
       "      <td>2</td>\n",
       "      <td>NaN</td>\n",
       "      <td>NaN</td>\n",
       "      <td>NaN</td>\n",
       "      <td>NaN</td>\n",
       "    </tr>\n",
       "    <tr>\n",
       "      <th>1</th>\n",
       "      <td>South Australian Water Corporation</td>\n",
       "      <td>Adelaide Desalination Plant</td>\n",
       "      <td>SA1</td>\n",
       "      <td>Load</td>\n",
       "      <td>Market</td>\n",
       "      <td>Scheduled</td>\n",
       "      <td>Battery storage</td>\n",
       "      <td>Grid</td>\n",
       "      <td>Storage</td>\n",
       "      <td>Battery and Inverter</td>\n",
       "      <td>1-3</td>\n",
       "      <td>Y</td>\n",
       "      <td>ADPBA1L</td>\n",
       "      <td>7.76</td>\n",
       "      <td>6.15</td>\n",
       "      <td>2</td>\n",
       "      <td>NaN</td>\n",
       "      <td>NaN</td>\n",
       "      <td>NaN</td>\n",
       "      <td>NaN</td>\n",
       "    </tr>\n",
       "    <tr>\n",
       "      <th>2</th>\n",
       "      <td>South Australian Water Corporation</td>\n",
       "      <td>Adelaide Desalination Plant</td>\n",
       "      <td>SA1</td>\n",
       "      <td>Generating Unit</td>\n",
       "      <td>Market</td>\n",
       "      <td>Non-Scheduled</td>\n",
       "      <td>Hydro</td>\n",
       "      <td>Water</td>\n",
       "      <td>Renewable</td>\n",
       "      <td>Run of River</td>\n",
       "      <td>1-2</td>\n",
       "      <td>Y</td>\n",
       "      <td>ADPMH1</td>\n",
       "      <td>1.44</td>\n",
       "      <td>1</td>\n",
       "      <td>-</td>\n",
       "      <td>NaN</td>\n",
       "      <td>NaN</td>\n",
       "      <td>NaN</td>\n",
       "      <td>NaN</td>\n",
       "    </tr>\n",
       "    <tr>\n",
       "      <th>3</th>\n",
       "      <td>South Australian Water Corporation</td>\n",
       "      <td>Adelaide Desalination Plant</td>\n",
       "      <td>SA1</td>\n",
       "      <td>Generating Unit</td>\n",
       "      <td>Market</td>\n",
       "      <td>Semi-Scheduled</td>\n",
       "      <td>Solar</td>\n",
       "      <td>Solar</td>\n",
       "      <td>Renewable</td>\n",
       "      <td>Photovoltaic Tracking Flat panel</td>\n",
       "      <td>1-4, 5-9</td>\n",
       "      <td>Y</td>\n",
       "      <td>ADPPV1</td>\n",
       "      <td>24.75</td>\n",
       "      <td>19</td>\n",
       "      <td>4</td>\n",
       "      <td>NaN</td>\n",
       "      <td>NaN</td>\n",
       "      <td>NaN</td>\n",
       "      <td>NaN</td>\n",
       "    </tr>\n",
       "    <tr>\n",
       "      <th>4</th>\n",
       "      <td>South Australian Water Corporation</td>\n",
       "      <td>Adelaide Desalination Plant</td>\n",
       "      <td>SA1</td>\n",
       "      <td>Generating Unit</td>\n",
       "      <td>Market</td>\n",
       "      <td>Non-Scheduled</td>\n",
       "      <td>Solar</td>\n",
       "      <td>Solar</td>\n",
       "      <td>Renewable</td>\n",
       "      <td>Photovoltaic Flat panel</td>\n",
       "      <td>1-2</td>\n",
       "      <td>Y</td>\n",
       "      <td>ADPPV2</td>\n",
       "      <td>0.2</td>\n",
       "      <td>0.2</td>\n",
       "      <td>-</td>\n",
       "      <td>NaN</td>\n",
       "      <td>NaN</td>\n",
       "      <td>NaN</td>\n",
       "      <td>NaN</td>\n",
       "    </tr>\n",
       "  </tbody>\n",
       "</table>\n",
       "</div>"
      ],
      "text/plain": [
       "                          Participant                 Station Name Region  \\\n",
       "0  South Australian Water Corporation  Adelaide Desalination Plant    SA1   \n",
       "1  South Australian Water Corporation  Adelaide Desalination Plant    SA1   \n",
       "2  South Australian Water Corporation  Adelaide Desalination Plant    SA1   \n",
       "3  South Australian Water Corporation  Adelaide Desalination Plant    SA1   \n",
       "4  South Australian Water Corporation  Adelaide Desalination Plant    SA1   \n",
       "\n",
       "     Dispatch Type Category  Classification Fuel Source - Primary  \\\n",
       "0  Generating Unit   Market       Scheduled       Battery storage   \n",
       "1             Load   Market       Scheduled       Battery storage   \n",
       "2  Generating Unit   Market   Non-Scheduled                 Hydro   \n",
       "3  Generating Unit   Market  Semi-Scheduled                 Solar   \n",
       "4  Generating Unit   Market   Non-Scheduled                 Solar   \n",
       "\n",
       "  Fuel Source - Descriptor Technology Type - Primary  \\\n",
       "0                     Grid                   Storage   \n",
       "1                     Grid                   Storage   \n",
       "2                    Water                 Renewable   \n",
       "3                    Solar                 Renewable   \n",
       "4                    Solar                 Renewable   \n",
       "\n",
       "       Technology Type - Descriptor     Units Aggregation     DUID  \\\n",
       "0              Battery and Inverter       1-3           Y  ADPBA1G   \n",
       "1              Battery and Inverter       1-3           Y  ADPBA1L   \n",
       "2                      Run of River       1-2           Y   ADPMH1   \n",
       "3  Photovoltaic Tracking Flat panel  1-4, 5-9           Y   ADPPV1   \n",
       "4           Photovoltaic Flat panel       1-2           Y   ADPPV2   \n",
       "\n",
       "  Reg Cap generation (MW) Max Cap generation (MW) Max ROC/Min generation  \\\n",
       "0                    7.76                    6.15                      2   \n",
       "1                    7.76                    6.15                      2   \n",
       "2                    1.44                       1                      -   \n",
       "3                   24.75                      19                      4   \n",
       "4                     0.2                     0.2                      -   \n",
       "\n",
       "   Reg Cap consumption (MW)  Max Cap consumption (MW)  \\\n",
       "0                       NaN                       NaN   \n",
       "1                       NaN                       NaN   \n",
       "2                       NaN                       NaN   \n",
       "3                       NaN                       NaN   \n",
       "4                       NaN                       NaN   \n",
       "\n",
       "   Max ROC/Min consumption  Comments  \n",
       "0                      NaN       NaN  \n",
       "1                      NaN       NaN  \n",
       "2                      NaN       NaN  \n",
       "3                      NaN       NaN  \n",
       "4                      NaN       NaN  "
      ]
     },
     "execution_count": 24,
     "metadata": {},
     "output_type": "execute_result"
    }
   ],
   "source": [
    "df_reg = pd.read_csv(\"data/analysis/NEM_Registration.csv\")\n",
    "df_reg.head()"
   ]
  },
  {
   "cell_type": "markdown",
   "id": "0528af8d-cf9c-4991-a8c1-d5ac1fb63d92",
   "metadata": {},
   "source": [
    "Data Availability Limitation: Why We Only Have Up to July 2024\n",
    "Our original intent was to analyze the full 2-year window from January 2023 to December 2024. \n",
    "This could be due to:\n",
    "1. At the time of data collection (May 2025), the latest available dispatch data was from July 2024\n",
    "2. Files from August 2024 onward returned 404 Not Found, indicating they were not yet released\n",
    "\n",
    "Hence, our cleaned datasets reflect the maximum available history, and still provide over 19 months of high-frequency data (5-minute intervals), which is more than sufficient for time-series modeling, exploratory analysis, and scenario simulations."
   ]
  }
 ],
 "metadata": {
  "kernelspec": {
   "display_name": "Python 3 (ipykernel)",
   "language": "python",
   "name": "python3"
  },
  "language_info": {
   "codemirror_mode": {
    "name": "ipython",
    "version": 3
   },
   "file_extension": ".py",
   "mimetype": "text/x-python",
   "name": "python",
   "nbconvert_exporter": "python",
   "pygments_lexer": "ipython3",
   "version": "3.11.7"
  }
 },
 "nbformat": 4,
 "nbformat_minor": 5
}
